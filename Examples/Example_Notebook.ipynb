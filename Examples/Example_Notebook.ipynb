{
 "cells": [
  {
   "cell_type": "markdown",
   "id": "b9ed7f1f-9632-4a26-90f4-3e8266854a99",
   "metadata": {},
   "source": [
    "# Example Notebook\n",
    "How to:\n",
    "- Calculate Galactocentric Position Velocity from Observables\n",
    "- Calculate Energy, Lz, and Lperp in the potential of Dodd23\n",
    "- Identify the grouping of the star from its position in IoM space"
   ]
  },
  {
   "cell_type": "markdown",
   "id": "41b6498e-9cce-45a8-acae-6ffc93a15182",
   "metadata": {},
   "source": [
    "## Load Test Data\n",
    "Test data is a small subset of the GaiaDR3 Halo dataset of Dodd23."
   ]
  },
  {
   "cell_type": "code",
   "execution_count": 1,
   "id": "a1b933c3-fda1-4141-a454-a2e5100c2cb2",
   "metadata": {},
   "outputs": [],
   "source": [
    "import astropy\n",
    "import numpy as np\n",
    "from astropy.table import QTable\n",
    "from id_Dodd23.coordinates import add_units"
   ]
  },
  {
   "cell_type": "code",
   "execution_count": 2,
   "id": "1c67adcb-5195-48ec-bc4c-007cf394dd74",
   "metadata": {},
   "outputs": [],
   "source": [
    "from id_Dodd23.load_data import test_data_file"
   ]
  },
  {
   "cell_type": "code",
   "execution_count": 3,
   "id": "1369476f-c2f2-4c32-a3ba-59d4f3d45d7a",
   "metadata": {},
   "outputs": [],
   "source": [
    "astro_tab = QTable.read(test_data_file)\n",
    "astro_tab = add_units(astro_tab)"
   ]
  },
  {
   "cell_type": "code",
   "execution_count": 4,
   "id": "fa1ca9ef-37a8-4e69-ba87-08815b0e20cc",
   "metadata": {},
   "outputs": [
    {
     "data": {
      "text/html": [
       "<div><i>QTable length=100</i>\n",
       "<table id=\"table140529883196592\" class=\"table-striped table-bordered table-condensed\">\n",
       "<thead><tr><th>distance</th><th>ra</th><th>dec</th><th>pmra</th><th>pmdec</th><th>radial_velocity</th><th>source_id</th><th>X</th><th>Y</th><th>Z</th><th>vX</th><th>vY</th><th>vZ</th><th>E</th><th>Lz</th><th>Lp</th><th>derived_labels_group</th></tr></thead>\n",
       "<thead><tr><th>kpc</th><th>deg</th><th>deg</th><th>mas / yr</th><th>mas / yr</th><th>km / s</th><th></th><th></th><th></th><th></th><th></th><th></th><th></th><th></th><th></th><th></th><th></th></tr></thead>\n",
       "<thead><tr><th>float64</th><th>float64</th><th>float64</th><th>float64</th><th>float64</th><th>float64</th><th>int64</th><th>float64</th><th>float64</th><th>float64</th><th>float64</th><th>float64</th><th>float64</th><th>float64</th><th>float64</th><th>float64</th><th>int64</th></tr></thead>\n",
       "<tr><td>0.6569138064891398</td><td>79.6420688518089</td><td>-5.462610099708457</td><td>55.71285226069336</td><td>-1.1000115932088952</td><td>-142.52946</td><td>3210029424269780736</td><td>-8.738054268313546</td><td>-0.27476551648877223</td><td>-0.25794818172315764</td><td>111.87639271763013</td><td>204.03663522989842</td><td>203.69531788829335</td><td>-104050.1082767272</td><td>1752.1434165349874</td><td>1751.0456106108838</td><td>-1</td></tr>\n",
       "<tr><td>2.269885807020314</td><td>270.65102179615553</td><td>-22.30647255806272</td><td>-18.573493014916664</td><td>-18.38000634553325</td><td>4.43005</td><td>4069868304850700160</td><td>-5.95033711495432</td><td>0.30231246610285084</td><td>0.0023776877478091317</td><td>51.45311311648649</td><td>-22.586134349687313</td><td>83.59451335118452</td><td>-166242.90699692926</td><td>-118.8401959893751</td><td>498.18200597091237</td><td>-1</td></tr>\n",
       "<tr><td>0.7667136477450862</td><td>160.8337099559071</td><td>-27.298394947954105</td><td>-68.14480824049961</td><td>0.7046412294251955</td><td>218.37772</td><td>5457599622881112960</td><td>-8.189927642700708</td><td>-0.6801550021037177</td><td>0.35374784574651924</td><td>-196.22185063030534</td><td>-11.588446369759652</td><td>-6.957078567328125</td><td>-135470.12945671787</td><td>38.55273596860148</td><td>126.69918394663613</td><td>-1</td></tr>\n",
       "<tr><td>2.215840070324138</td><td>177.51264225565427</td><td>-50.07660418097275</td><td>-29.538628404718093</td><td>-3.053665662605868</td><td>197.23943</td><td>5370847536981538432</td><td>-7.353744833562512</td><td>-1.9988089209235476</td><td>0.4456033080761248</td><td>-175.53993776792754</td><td>-66.87760822516299</td><td>-56.63564302838645</td><td>-139117.84826967903</td><td>-140.93007237791215</td><td>514.9598298638659</td><td>-1</td></tr>\n",
       "<tr><td>0.6612475015935336</td><td>233.4810224293186</td><td>-67.16246141734428</td><td>-27.859130542527552</td><td>24.90145236945257</td><td>183.3861</td><td>5823800354314281728</td><td>-7.716614780183498</td><td>-0.4389350584785546</td><td>-0.10451316694594619</td><td>141.82164168152315</td><td>92.72315156174386</td><td>91.28260641860007</td><td>-139774.64425843488</td><td>653.2583512215433</td><td>690.239212586275</td><td>-1</td></tr>\n",
       "<tr><td>0.9564512255383445</td><td>93.75780581545092</td><td>-15.715473466695368</td><td>19.768824304536523</td><td>-44.82212138121657</td><td>93.34727</td><td>2992838906707451520</td><td>-8.873786739132546</td><td>-0.6320052660612839</td><td>-0.24774931013775867</td><td>97.80662975543454</td><td>21.854817041945694</td><td>-19.590345897258516</td><td>-145789.11071394364</td><td>132.1206805918448</td><td>198.86989497797407</td><td>-1</td></tr>\n",
       "<tr><td>0.48716036536666246</td><td>112.76254954503833</td><td>-68.30994383857458</td><td>-5.921732612562819</td><td>9.213970052152144</td><td>298.55826</td><td>5268801209965787136</td><td>-8.122172773338574</td><td>-0.4464084817094552</td><td>-0.17885080886658083</td><td>34.17266661632839</td><td>-30.68259921136763</td><td>-107.73501244583404</td><td>-148767.7257783705</td><td>-264.46434014998835</td><td>882.1836560595557</td><td>-1</td></tr>\n",
       "<tr><td>1.3397906448019974</td><td>224.64643312769795</td><td>-21.45954995654293</td><td>-17.50511410385979</td><td>-23.237899106837467</td><td>127.98259</td><td>6232497549409088128</td><td>-7.148822634279215</td><td>-0.4146947017103565</td><td>0.7197870671723846</td><td>77.89417943270735</td><td>31.126409606262797</td><td>24.683648380413942</td><td>-156823.09431064187</td><td>190.2148780122779</td><td>234.80600959089904</td><td>-1</td></tr>\n",
       "<tr><td>0.3894284506527783</td><td>67.12766130408737</td><td>-6.065587020300591</td><td>80.5325709227895</td><td>-140.97257664581585</td><td>-179.03151</td><td>3199569082960742656</td><td>-8.499992460293385</td><td>-0.11508229396509814</td><td>-0.22003433268623412</td><td>253.95793159374</td><td>17.22056738552621</td><td>112.15362022173511</td><td>-114656.6832470234</td><td>117.14863160050787</td><td>897.4717790777903</td><td>0</td></tr>\n",
       "<tr><td>...</td><td>...</td><td>...</td><td>...</td><td>...</td><td>...</td><td>...</td><td>...</td><td>...</td><td>...</td><td>...</td><td>...</td><td>...</td><td>...</td><td>...</td><td>...</td><td>...</td></tr>\n",
       "<tr><td>1.075837738668766</td><td>318.3587551059353</td><td>-12.334587491327111</td><td>3.621422152015195</td><td>-39.4914537956255</td><td>-236.66591</td><td>6891935974655127424</td><td>-7.521937102856961</td><td>0.5270683641496225</td><td>-0.6479633376777998</td><td>-78.77397174526976</td><td>-46.56560119548084</td><td>68.94766443783928</td><td>-151801.81041105764</td><td>-391.78279177447564</td><td>569.6960246055341</td><td>-1</td></tr>\n",
       "<tr><td>1.1661959263860635</td><td>257.8114574511222</td><td>55.11641795673351</td><td>-38.112452571308935</td><td>25.8138747967222</td><td>-204.82372</td><td>1420238417980089472</td><td>-8.085716960692022</td><td>0.9350176094386063</td><td>0.6875277417571556</td><td>-177.31253952606</td><td>-18.457148207158866</td><td>49.49155858184828</td><td>-137436.57336544298</td><td>-315.02962313577575</td><td>284.4462604419128</td><td>0</td></tr>\n",
       "<tr><td>1.7623981351751776</td><td>21.45341475274787</td><td>54.61910631366756</td><td>3.259840580771864</td><td>-4.77808065279699</td><td>-264.18112</td><td>410644060852170112</td><td>-9.273336064547456</td><td>1.376610815838574</td><td>-0.2427746715103934</td><td>149.51675258585456</td><td>14.894153130866556</td><td>8.087643922684926</td><td>-137036.90341259612</td><td>343.9448661381047</td><td>41.415937967932855</td><td>-1</td></tr>\n",
       "<tr><td>0.801958921088804</td><td>173.27418442791256</td><td>-42.752096086057854</td><td>-106.855294314897</td><td>19.21246284654547</td><td>182.55745</td><td>5382442574285725824</td><td>-7.964751003925641</td><td>-0.7262971616421418</td><td>0.2455370724564698</td><td>-318.66898492273657</td><td>-63.086496800893315</td><td>8.023806672577415</td><td>-103578.92852009254</td><td>-271.01985947630067</td><td>17.289416084377272</td><td>-1</td></tr>\n",
       "<tr><td>0.4960041408247783</td><td>301.7226546857768</td><td>-54.801022665008</td><td>-42.69743747633257</td><td>-93.92142069488224</td><td>143.40808</td><td>6472912402548415616</td><td>-7.799732107480526</td><td>-0.12030184805979831</td><td>-0.2670827349095093</td><td>110.3811178029554</td><td>-18.698313205116108</td><td>8.508968555562845</td><td>-151286.9517862212</td><td>-159.12088632427304</td><td>37.37441466107252</td><td>-1</td></tr>\n",
       "<tr><td>0.9089979279308631</td><td>150.41906254633503</td><td>9.521877092464791</td><td>28.737897698954143</td><td>-72.57345092097502</td><td>17.285461</td><td>3878302180628996736</td><td>-8.616508713607173</td><td>-0.46975511162162875</td><td>0.6573643278861812</td><td>230.01604722397286</td><td>-10.147717088828841</td><td>-12.499847269207603</td><td>-125179.82058340585</td><td>-195.48910665757734</td><td>45.27147440945014</td><td>0</td></tr>\n",
       "<tr><td>1.0775982922066087</td><td>26.765861368636497</td><td>29.13755309238912</td><td>14.830336863399522</td><td>-17.10047338386121</td><td>-234.50499</td><td>302333914880907136</td><td>-8.87021260109484</td><td>0.6186219156074383</td><td>-0.573881585547464</td><td>117.82666955507142</td><td>16.71426177413764</td><td>76.82064553200635</td><td>-140425.41067233268</td><td>221.14921543675638</td><td>616.4485003584844</td><td>-1</td></tr>\n",
       "<tr><td>0.9366707851715729</td><td>239.66822836588256</td><td>-12.836983023176916</td><td>-30.00657212195225</td><td>-45.902473017200535</td><td>37.033287</td><td>6264221316030189952</td><td>-7.385515836267376</td><td>-0.032700485946034516</td><td>0.4614091297770276</td><td>51.571992572096356</td><td>2.4515291425834107</td><td>-6.205650298566525</td><td>-158515.1923555723</td><td>16.419378087307926</td><td>22.055681633738114</td><td>-1</td></tr>\n",
       "<tr><td>1.9673419159676437</td><td>251.2317093197823</td><td>18.01969302742765</td><td>-14.36651967181377</td><td>1.9614534465702171</td><td>-155.69897</td><td>4562327841945977728</td><td>-6.914246177556514</td><td>0.94513999739434</td><td>1.1506440404054732</td><td>-134.5602403720122</td><td>99.90634601808804</td><td>23.016580794409094</td><td>-146173.33403982356</td><td>563.5988058346182</td><td>93.30241472344565</td><td>-1</td></tr>\n",
       "</table></div>"
      ],
      "text/plain": [
       "<QTable length=100>\n",
       "      distance              ra         ... derived_labels_group\n",
       "        kpc                deg         ...                     \n",
       "      float64            float64       ...        int64        \n",
       "------------------- ------------------ ... --------------------\n",
       " 0.6569138064891398   79.6420688518089 ...                   -1\n",
       "  2.269885807020314 270.65102179615553 ...                   -1\n",
       " 0.7667136477450862  160.8337099559071 ...                   -1\n",
       "  2.215840070324138 177.51264225565427 ...                   -1\n",
       " 0.6612475015935336  233.4810224293186 ...                   -1\n",
       " 0.9564512255383445  93.75780581545092 ...                   -1\n",
       "0.48716036536666246 112.76254954503833 ...                   -1\n",
       " 1.3397906448019974 224.64643312769795 ...                   -1\n",
       " 0.3894284506527783  67.12766130408737 ...                    0\n",
       "                ...                ... ...                  ...\n",
       "  1.075837738668766  318.3587551059353 ...                   -1\n",
       " 1.1661959263860635  257.8114574511222 ...                    0\n",
       " 1.7623981351751776  21.45341475274787 ...                   -1\n",
       "  0.801958921088804 173.27418442791256 ...                   -1\n",
       " 0.4960041408247783  301.7226546857768 ...                   -1\n",
       " 0.9089979279308631 150.41906254633503 ...                    0\n",
       " 1.0775982922066087 26.765861368636497 ...                   -1\n",
       " 0.9366707851715729 239.66822836588256 ...                   -1\n",
       " 1.9673419159676437  251.2317093197823 ...                   -1"
      ]
     },
     "execution_count": 4,
     "metadata": {},
     "output_type": "execute_result"
    }
   ],
   "source": [
    "astro_tab"
   ]
  },
  {
   "cell_type": "markdown",
   "id": "b082fc66-4ec2-49a0-9c4f-b238ad9f9c37",
   "metadata": {},
   "source": [
    "## Coordinate Transform\n",
    "Observables to Galacto_PosVel"
   ]
  },
  {
   "cell_type": "code",
   "execution_count": 5,
   "id": "f13d3f9f-e4f1-4838-b093-57473ddbcbe8",
   "metadata": {},
   "outputs": [],
   "source": [
    "from id_Dodd23.coordinates import coord_transform_icrs_Galacto"
   ]
  },
  {
   "cell_type": "code",
   "execution_count": 6,
   "id": "1acb873b-1a13-4bd5-b027-97e75a6f8ce7",
   "metadata": {},
   "outputs": [],
   "source": [
    "observables = [\"ra\",\"dec\",\"distance\",\"pmra\",\"pmdec\",\"radial_velocity\"]\n",
    "obs_data = {key:astro_tab[key]for key in observables}"
   ]
  },
  {
   "cell_type": "code",
   "execution_count": 7,
   "id": "ec4e4ecf-142d-4ac9-8986-0ed4fc8907d4",
   "metadata": {},
   "outputs": [],
   "source": [
    "xyz = coord_transform_icrs_Galacto(obs_data)"
   ]
  },
  {
   "cell_type": "markdown",
   "id": "1ebcfe3c-4448-4428-8be8-fca0f61e3728",
   "metadata": {},
   "source": [
    "## Calculate Dynamics\n",
    "From galacto PosVel to \\[En,Lz,Lperp\\]"
   ]
  },
  {
   "cell_type": "code",
   "execution_count": 8,
   "id": "d8b5ab25-02b2-4f8d-bd5e-33c4db182440",
   "metadata": {},
   "outputs": [],
   "source": [
    "from id_Dodd23.dynamics import dynamics_calc_H99"
   ]
  },
  {
   "cell_type": "code",
   "execution_count": 9,
   "id": "ce2dc321-c2f3-4438-bceb-3f1bc13b15c2",
   "metadata": {},
   "outputs": [],
   "source": [
    "vec_ELzLp  = dynamics_calc_H99(xyz)"
   ]
  },
  {
   "cell_type": "code",
   "execution_count": 10,
   "id": "65cfe5db-5094-4018-a094-f1809d4276b0",
   "metadata": {},
   "outputs": [
    {
     "name": "stdout",
     "output_type": "stream",
     "text": [
      "[[-1.04055357e+05  1.75197159e+03  1.75090205e+03]\n",
      " [-1.66247184e+05 -1.18894200e+02  4.97859265e+02]\n",
      " [-1.35472253e+05  3.85148507e+01  1.26764460e+02]\n",
      " [-1.39119547e+05 -1.40959540e+02  5.15208246e+02]\n",
      " [-1.39778692e+05  6.53153014e+02  6.90187680e+02]]\n"
     ]
    }
   ],
   "source": [
    "print(vec_ELzLp[:5,:])"
   ]
  },
  {
   "cell_type": "code",
   "execution_count": 11,
   "id": "5a85b95a-a442-4b45-8f33-64d9e7a20119",
   "metadata": {},
   "outputs": [
    {
     "name": "stdout",
     "output_type": "stream",
     "text": [
      "         E                   Lz                 Lp        \n",
      "------------------- ------------------- ------------------\n",
      " -104050.1082767272  1752.1434165349874 1751.0456106108838\n",
      "-166242.90699692926  -118.8401959893751 498.18200597091237\n",
      "-135470.12945671787   38.55273596860148 126.69918394663613\n",
      "-139117.84826967903 -140.93007237791215  514.9598298638659\n",
      "-139774.64425843488   653.2583512215433   690.239212586275\n"
     ]
    }
   ],
   "source": [
    "print(astro_tab[:5][[\"E\",\"Lz\",\"Lp\"]])"
   ]
  },
  {
   "cell_type": "markdown",
   "id": "4fb72fc1-8107-4be1-86aa-ac68475b55ec",
   "metadata": {},
   "source": [
    "## Identify Groups\n",
    "Using the position in IoM space, identify stars that are close to known groups"
   ]
  },
  {
   "cell_type": "code",
   "execution_count": 12,
   "id": "bca26ae2-0e7c-49f6-878f-756fa2da7531",
   "metadata": {},
   "outputs": [],
   "source": [
    "from id_Dodd23.id_stars import  add_maha_members_to_groups"
   ]
  },
  {
   "cell_type": "code",
   "execution_count": 13,
   "id": "dcbca9cd-3149-4525-9487-73fabf0f3442",
   "metadata": {},
   "outputs": [],
   "source": [
    "from id_Dodd23.load_data import named_Groups, group_covar,group_mean "
   ]
  },
  {
   "cell_type": "code",
   "execution_count": 14,
   "id": "454322c2-182f-4349-adae-8d852fdd0e2b",
   "metadata": {},
   "outputs": [],
   "source": [
    "labels = add_maha_members_to_groups(vec_ELzLp,group_mean,group_covar)"
   ]
  },
  {
   "cell_type": "code",
   "execution_count": 15,
   "id": "dc5d5024-fd00-49ea-b97f-2ebd1f775bc9",
   "metadata": {},
   "outputs": [],
   "source": [
    "original_labels = np.asarray(astro_tab[\"derived_labels_group\"]).astype(int)"
   ]
  },
  {
   "cell_type": "code",
   "execution_count": 16,
   "id": "e12d1e44-488b-4d0b-b281-e70edaf6846e",
   "metadata": {},
   "outputs": [
    {
     "data": {
      "text/plain": [
       "True"
      ]
     },
     "execution_count": 16,
     "metadata": {},
     "output_type": "execute_result"
    }
   ],
   "source": [
    "(original_labels==labels).all()"
   ]
  },
  {
   "cell_type": "code",
   "execution_count": 21,
   "id": "7a0532af-c310-4ec4-a658-086959ffab0c",
   "metadata": {},
   "outputs": [],
   "source": [
    "groups = named_Groups[labels]\n",
    "groups[labels==-1] = \"Other\""
   ]
  },
  {
   "cell_type": "code",
   "execution_count": 22,
   "id": "a1514e09-1202-4c19-8a81-c7acb3840400",
   "metadata": {},
   "outputs": [
    {
     "name": "stdout",
     "output_type": "stream",
     "text": [
      "Gaia Enceladus 8\n",
      "L-RL3 8\n",
      "Hot Thick Disk 1\n",
      "Thamnos 1+2 1\n",
      "Helmi Streams 0\n",
      "Sequoia 1\n",
      "ED-1 0\n",
      "7 0\n",
      "8 1\n",
      "9 0\n",
      "10 0\n",
      "L-RL64 0\n",
      "12 0\n",
      "13 1\n",
      "14 0\n",
      "ED-2 0\n",
      "16 0\n",
      "ED-4 0\n",
      "19 0\n",
      "20 0\n",
      "21 0\n",
      "22 0\n",
      "ED-3 0\n",
      "Typhon 0\n",
      "ED-5 1\n",
      "27 0\n",
      "ED-6 0\n"
     ]
    }
   ],
   "source": [
    "for g in named_Groups:\n",
    "    print(g, (groups==g).sum())"
   ]
  }
 ],
 "metadata": {
  "kernelspec": {
   "display_name": "py10",
   "language": "python",
   "name": "py10"
  },
  "language_info": {
   "codemirror_mode": {
    "name": "ipython",
    "version": 3
   },
   "file_extension": ".py",
   "mimetype": "text/x-python",
   "name": "python",
   "nbconvert_exporter": "python",
   "pygments_lexer": "ipython3",
   "version": "3.10.14"
  }
 },
 "nbformat": 4,
 "nbformat_minor": 5
}
