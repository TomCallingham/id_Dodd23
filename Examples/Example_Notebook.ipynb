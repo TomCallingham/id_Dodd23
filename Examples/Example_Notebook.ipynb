{
 "cells": [
  {
   "cell_type": "markdown",
   "id": "b9ed7f1f-9632-4a26-90f4-3e8266854a99",
   "metadata": {},
   "source": [
    "# Example Notebook\n",
    "How to:\n",
    "- Calculate Galactocentric Position Velocity from Observables\n",
    "- Calculate Energy, Lz, and Lperp in the potential of Dodd23\n",
    "- Identify the grouping of the star from its position in IoM space"
   ]
  },
  {
   "cell_type": "markdown",
   "id": "41b6498e-9cce-45a8-acae-6ffc93a15182",
   "metadata": {},
   "source": [
    "## Load Test Data\n",
    "Test data is a small subset of the GaiaDR3 Halo dataset of Dodd23."
   ]
  },
  {
   "cell_type": "code",
   "execution_count": 1,
   "id": "5c1db21b-daa3-4a82-8cc4-c2ef54cdc7a3",
   "metadata": {},
   "outputs": [],
   "source": [
    "import id_Dodd23"
   ]
  },
  {
   "cell_type": "code",
   "execution_count": 2,
   "id": "a1b933c3-fda1-4141-a454-a2e5100c2cb2",
   "metadata": {},
   "outputs": [],
   "source": [
    "import astropy\n",
    "import numpy as np\n",
    "from astropy.table import QTable\n",
    "from id_Dodd23.coordinates import add_units"
   ]
  },
  {
   "cell_type": "code",
   "execution_count": 3,
   "id": "1c67adcb-5195-48ec-bc4c-007cf394dd74",
   "metadata": {},
   "outputs": [],
   "source": [
    "from id_Dodd23.load_data import test_data_file"
   ]
  },
  {
   "cell_type": "code",
   "execution_count": 4,
   "id": "1369476f-c2f2-4c32-a3ba-59d4f3d45d7a",
   "metadata": {},
   "outputs": [
    {
     "ename": "FileNotFoundError",
     "evalue": "[Errno 2] No such file or directory: '/Users/users/callingham/miniforge3/envs/py10/lib/python3.10/site-packages/id_Dodd23/data/test_data.csv'",
     "output_type": "error",
     "traceback": [
      "\u001b[0;31m---------------------------------------------------------------------------\u001b[0m",
      "\u001b[0;31mFileNotFoundError\u001b[0m                         Traceback (most recent call last)",
      "Cell \u001b[0;32mIn[4], line 1\u001b[0m\n\u001b[0;32m----> 1\u001b[0m astro_tab \u001b[38;5;241m=\u001b[39m \u001b[43mQTable\u001b[49m\u001b[38;5;241;43m.\u001b[39;49m\u001b[43mread\u001b[49m\u001b[43m(\u001b[49m\u001b[43mtest_data_file\u001b[49m\u001b[43m)\u001b[49m\n\u001b[1;32m      2\u001b[0m astro_tab \u001b[38;5;241m=\u001b[39m add_units(astro_tab)\n",
      "File \u001b[0;32m~/miniforge3/envs/py10/lib/python3.10/site-packages/astropy/table/connect.py:62\u001b[0m, in \u001b[0;36mTableRead.__call__\u001b[0;34m(self, *args, **kwargs)\u001b[0m\n\u001b[1;32m     59\u001b[0m units \u001b[38;5;241m=\u001b[39m kwargs\u001b[38;5;241m.\u001b[39mpop(\u001b[38;5;124m\"\u001b[39m\u001b[38;5;124munits\u001b[39m\u001b[38;5;124m\"\u001b[39m, \u001b[38;5;28;01mNone\u001b[39;00m)\n\u001b[1;32m     60\u001b[0m descriptions \u001b[38;5;241m=\u001b[39m kwargs\u001b[38;5;241m.\u001b[39mpop(\u001b[38;5;124m\"\u001b[39m\u001b[38;5;124mdescriptions\u001b[39m\u001b[38;5;124m\"\u001b[39m, \u001b[38;5;28;01mNone\u001b[39;00m)\n\u001b[0;32m---> 62\u001b[0m out \u001b[38;5;241m=\u001b[39m \u001b[38;5;28;43mself\u001b[39;49m\u001b[38;5;241;43m.\u001b[39;49m\u001b[43mregistry\u001b[49m\u001b[38;5;241;43m.\u001b[39;49m\u001b[43mread\u001b[49m\u001b[43m(\u001b[49m\u001b[38;5;28;43mcls\u001b[39;49m\u001b[43m,\u001b[49m\u001b[43m \u001b[49m\u001b[38;5;241;43m*\u001b[39;49m\u001b[43margs\u001b[49m\u001b[43m,\u001b[49m\u001b[43m \u001b[49m\u001b[38;5;241;43m*\u001b[39;49m\u001b[38;5;241;43m*\u001b[39;49m\u001b[43mkwargs\u001b[49m\u001b[43m)\u001b[49m\n\u001b[1;32m     64\u001b[0m \u001b[38;5;66;03m# For some readers (e.g., ascii.ecsv), the returned `out` class is not\u001b[39;00m\n\u001b[1;32m     65\u001b[0m \u001b[38;5;66;03m# guaranteed to be the same as the desired output `cls`.  If so,\u001b[39;00m\n\u001b[1;32m     66\u001b[0m \u001b[38;5;66;03m# try coercing to desired class without copying (io.registry.read\u001b[39;00m\n\u001b[1;32m     67\u001b[0m \u001b[38;5;66;03m# would normally do a copy).  The normal case here is swapping\u001b[39;00m\n\u001b[1;32m     68\u001b[0m \u001b[38;5;66;03m# Table <=> QTable.\u001b[39;00m\n\u001b[1;32m     69\u001b[0m \u001b[38;5;28;01mif\u001b[39;00m \u001b[38;5;28mcls\u001b[39m \u001b[38;5;129;01mis\u001b[39;00m \u001b[38;5;129;01mnot\u001b[39;00m out\u001b[38;5;241m.\u001b[39m\u001b[38;5;18m__class__\u001b[39m:\n",
      "File \u001b[0;32m~/miniforge3/envs/py10/lib/python3.10/site-packages/astropy/io/registry/core.py:200\u001b[0m, in \u001b[0;36mUnifiedInputRegistry.read\u001b[0;34m(self, cls, format, cache, *args, **kwargs)\u001b[0m\n\u001b[1;32m    196\u001b[0m \u001b[38;5;28;01mtry\u001b[39;00m:\n\u001b[1;32m    197\u001b[0m     ctx \u001b[38;5;241m=\u001b[39m get_readable_fileobj(\n\u001b[1;32m    198\u001b[0m         args[\u001b[38;5;241m0\u001b[39m], encoding\u001b[38;5;241m=\u001b[39m\u001b[38;5;124m\"\u001b[39m\u001b[38;5;124mbinary\u001b[39m\u001b[38;5;124m\"\u001b[39m, cache\u001b[38;5;241m=\u001b[39mcache\n\u001b[1;32m    199\u001b[0m     )\n\u001b[0;32m--> 200\u001b[0m     fileobj \u001b[38;5;241m=\u001b[39m \u001b[43mctx\u001b[49m\u001b[38;5;241;43m.\u001b[39;49m\u001b[38;5;21;43m__enter__\u001b[39;49m\u001b[43m(\u001b[49m\u001b[43m)\u001b[49m\n\u001b[1;32m    201\u001b[0m \u001b[38;5;28;01mexcept\u001b[39;00m \u001b[38;5;167;01mOSError\u001b[39;00m:\n\u001b[1;32m    202\u001b[0m     \u001b[38;5;28;01mraise\u001b[39;00m\n",
      "File \u001b[0;32m~/miniforge3/envs/py10/lib/python3.10/contextlib.py:135\u001b[0m, in \u001b[0;36m_GeneratorContextManager.__enter__\u001b[0;34m(self)\u001b[0m\n\u001b[1;32m    133\u001b[0m \u001b[38;5;28;01mdel\u001b[39;00m \u001b[38;5;28mself\u001b[39m\u001b[38;5;241m.\u001b[39margs, \u001b[38;5;28mself\u001b[39m\u001b[38;5;241m.\u001b[39mkwds, \u001b[38;5;28mself\u001b[39m\u001b[38;5;241m.\u001b[39mfunc\n\u001b[1;32m    134\u001b[0m \u001b[38;5;28;01mtry\u001b[39;00m:\n\u001b[0;32m--> 135\u001b[0m     \u001b[38;5;28;01mreturn\u001b[39;00m \u001b[38;5;28;43mnext\u001b[39;49m\u001b[43m(\u001b[49m\u001b[38;5;28;43mself\u001b[39;49m\u001b[38;5;241;43m.\u001b[39;49m\u001b[43mgen\u001b[49m\u001b[43m)\u001b[49m\n\u001b[1;32m    136\u001b[0m \u001b[38;5;28;01mexcept\u001b[39;00m \u001b[38;5;167;01mStopIteration\u001b[39;00m:\n\u001b[1;32m    137\u001b[0m     \u001b[38;5;28;01mraise\u001b[39;00m \u001b[38;5;167;01mRuntimeError\u001b[39;00m(\u001b[38;5;124m\"\u001b[39m\u001b[38;5;124mgenerator didn\u001b[39m\u001b[38;5;124m'\u001b[39m\u001b[38;5;124mt yield\u001b[39m\u001b[38;5;124m\"\u001b[39m) \u001b[38;5;28;01mfrom\u001b[39;00m \u001b[38;5;28;01mNone\u001b[39;00m\n",
      "File \u001b[0;32m~/miniforge3/envs/py10/lib/python3.10/site-packages/astropy/utils/data.py:366\u001b[0m, in \u001b[0;36mget_readable_fileobj\u001b[0;34m(name_or_obj, encoding, cache, show_progress, remote_timeout, sources, http_headers, use_fsspec, fsspec_kwargs, close_files)\u001b[0m\n\u001b[1;32m    357\u001b[0m \u001b[38;5;28;01mif\u001b[39;00m is_url:\n\u001b[1;32m    358\u001b[0m     name_or_obj \u001b[38;5;241m=\u001b[39m download_file(\n\u001b[1;32m    359\u001b[0m         name_or_obj,\n\u001b[1;32m    360\u001b[0m         cache\u001b[38;5;241m=\u001b[39mcache,\n\u001b[0;32m   (...)\u001b[0m\n\u001b[1;32m    364\u001b[0m         http_headers\u001b[38;5;241m=\u001b[39mhttp_headers,\n\u001b[1;32m    365\u001b[0m     )\n\u001b[0;32m--> 366\u001b[0m fileobj \u001b[38;5;241m=\u001b[39m \u001b[43mio\u001b[49m\u001b[38;5;241;43m.\u001b[39;49m\u001b[43mFileIO\u001b[49m\u001b[43m(\u001b[49m\u001b[43mname_or_obj\u001b[49m\u001b[43m,\u001b[49m\u001b[43m \u001b[49m\u001b[38;5;124;43m\"\u001b[39;49m\u001b[38;5;124;43mr\u001b[39;49m\u001b[38;5;124;43m\"\u001b[39;49m\u001b[43m)\u001b[49m\n\u001b[1;32m    367\u001b[0m \u001b[38;5;28;01mif\u001b[39;00m is_url \u001b[38;5;129;01mand\u001b[39;00m \u001b[38;5;129;01mnot\u001b[39;00m cache:\n\u001b[1;32m    368\u001b[0m     delete_fds\u001b[38;5;241m.\u001b[39mappend(fileobj)\n",
      "\u001b[0;31mFileNotFoundError\u001b[0m: [Errno 2] No such file or directory: '/Users/users/callingham/miniforge3/envs/py10/lib/python3.10/site-packages/id_Dodd23/data/test_data.csv'"
     ]
    }
   ],
   "source": [
    "astro_tab = QTable.read(test_data_file)\n",
    "astro_tab = add_units(astro_tab)"
   ]
  },
  {
   "cell_type": "code",
   "execution_count": null,
   "id": "fa1ca9ef-37a8-4e69-ba87-08815b0e20cc",
   "metadata": {},
   "outputs": [],
   "source": [
    "astro_tab"
   ]
  },
  {
   "cell_type": "markdown",
   "id": "b082fc66-4ec2-49a0-9c4f-b238ad9f9c37",
   "metadata": {},
   "source": [
    "## Coordinate Transform\n",
    "Observables to Galacto_PosVel"
   ]
  },
  {
   "cell_type": "code",
   "execution_count": null,
   "id": "f13d3f9f-e4f1-4838-b093-57473ddbcbe8",
   "metadata": {},
   "outputs": [],
   "source": [
    "from id_Dodd23.coordinates import coord_transform_icrs_Galacto"
   ]
  },
  {
   "cell_type": "code",
   "execution_count": null,
   "id": "1acb873b-1a13-4bd5-b027-97e75a6f8ce7",
   "metadata": {},
   "outputs": [],
   "source": [
    "observables = [\"ra\",\"dec\",\"distance\",\"pmra\",\"pmdec\",\"radial_velocity\"]\n",
    "obs_data = {key:astro_tab[key]for key in observables}"
   ]
  },
  {
   "cell_type": "code",
   "execution_count": null,
   "id": "ec4e4ecf-142d-4ac9-8986-0ed4fc8907d4",
   "metadata": {},
   "outputs": [],
   "source": [
    "xyz = coord_transform_icrs_Galacto(obs_data)"
   ]
  },
  {
   "cell_type": "markdown",
   "id": "1ebcfe3c-4448-4428-8be8-fca0f61e3728",
   "metadata": {},
   "source": [
    "## Calculate Dynamics\n",
    "From galacto PosVel to \\[En,Lz,Lperp\\]"
   ]
  },
  {
   "cell_type": "code",
   "execution_count": null,
   "id": "d8b5ab25-02b2-4f8d-bd5e-33c4db182440",
   "metadata": {},
   "outputs": [],
   "source": [
    "from id_Dodd23.dynamics import dynamics_calc_H99"
   ]
  },
  {
   "cell_type": "code",
   "execution_count": null,
   "id": "ce2dc321-c2f3-4438-bceb-3f1bc13b15c2",
   "metadata": {},
   "outputs": [],
   "source": [
    "vec_ELzLp  = dynamics_calc_H99(xyz)"
   ]
  },
  {
   "cell_type": "code",
   "execution_count": null,
   "id": "65cfe5db-5094-4018-a094-f1809d4276b0",
   "metadata": {},
   "outputs": [],
   "source": [
    "print(vec_ELzLp[:5,:])"
   ]
  },
  {
   "cell_type": "code",
   "execution_count": null,
   "id": "5a85b95a-a442-4b45-8f33-64d9e7a20119",
   "metadata": {},
   "outputs": [],
   "source": [
    "print(astro_tab[:5][[\"E\",\"Lz\",\"Lp\"]])"
   ]
  },
  {
   "cell_type": "markdown",
   "id": "4fb72fc1-8107-4be1-86aa-ac68475b55ec",
   "metadata": {},
   "source": [
    "## Identify Groups\n",
    "Using the position in IoM space, identify stars that are close to known groups"
   ]
  },
  {
   "cell_type": "code",
   "execution_count": null,
   "id": "bca26ae2-0e7c-49f6-878f-756fa2da7531",
   "metadata": {},
   "outputs": [],
   "source": [
    "from id_Dodd23.id_stars import  add_maha_members_to_groups"
   ]
  },
  {
   "cell_type": "code",
   "execution_count": null,
   "id": "dcbca9cd-3149-4525-9487-73fabf0f3442",
   "metadata": {},
   "outputs": [],
   "source": [
    "from id_Dodd23.load_data import named_Groups, group_covar,group_mean "
   ]
  },
  {
   "cell_type": "code",
   "execution_count": null,
   "id": "454322c2-182f-4349-adae-8d852fdd0e2b",
   "metadata": {},
   "outputs": [],
   "source": [
    "labels = add_maha_members_to_groups(vec_ELzLp,group_mean,group_covar)"
   ]
  },
  {
   "cell_type": "code",
   "execution_count": null,
   "id": "dc5d5024-fd00-49ea-b97f-2ebd1f775bc9",
   "metadata": {},
   "outputs": [],
   "source": [
    "original_labels = np.asarray(astro_tab[\"derived_labels_group\"]).astype(int)"
   ]
  },
  {
   "cell_type": "code",
   "execution_count": null,
   "id": "e12d1e44-488b-4d0b-b281-e70edaf6846e",
   "metadata": {},
   "outputs": [],
   "source": [
    "(original_labels==labels).all()"
   ]
  },
  {
   "cell_type": "code",
   "execution_count": null,
   "id": "7a0532af-c310-4ec4-a658-086959ffab0c",
   "metadata": {},
   "outputs": [],
   "source": [
    "groups = named_Groups[labels]\n",
    "groups[labels==-1] = \"Other\""
   ]
  },
  {
   "cell_type": "code",
   "execution_count": null,
   "id": "a1514e09-1202-4c19-8a81-c7acb3840400",
   "metadata": {},
   "outputs": [],
   "source": [
    "for g in named_Groups:\n",
    "    print(g, (groups==g).sum())"
   ]
  }
 ],
 "metadata": {
  "kernelspec": {
   "display_name": "py10",
   "language": "python",
   "name": "py10"
  },
  "language_info": {
   "codemirror_mode": {
    "name": "ipython",
    "version": 3
   },
   "file_extension": ".py",
   "mimetype": "text/x-python",
   "name": "python",
   "nbconvert_exporter": "python",
   "pygments_lexer": "ipython3",
   "version": "3.10.14"
  }
 },
 "nbformat": 4,
 "nbformat_minor": 5
}
