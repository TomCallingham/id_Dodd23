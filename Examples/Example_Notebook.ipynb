{
 "cells": [
  {
   "cell_type": "markdown",
   "id": "b9ed7f1f-9632-4a26-90f4-3e8266854a99",
   "metadata": {},
   "source": [
    "# Example Notebook\n",
    "How to:\n",
    "- Calculate Galactocentric Position Velocity from Observables\n",
    "- Calculate Energy, Lz, and Lperp in the potential of Dodd23\n",
    "- Identify the grouping of the star from its position in IoM space"
   ]
  },
  {
   "cell_type": "markdown",
   "id": "41b6498e-9cce-45a8-acae-6ffc93a15182",
   "metadata": {},
   "source": [
    "## Load Test Data\n",
    "Test data is a small subset of the GaiaDR3 Halo dataset of Dodd23."
   ]
  },
  {
   "cell_type": "code",
   "execution_count": 1,
   "id": "5c1db21b-daa3-4a82-8cc4-c2ef54cdc7a3",
   "metadata": {},
   "outputs": [],
   "source": [
    "import id_Dodd23"
   ]
  },
  {
   "cell_type": "code",
   "execution_count": 2,
   "id": "5f4fc307-0194-497d-8dbc-bf6d9129423b",
   "metadata": {},
   "outputs": [
    {
     "ename": "NameError",
     "evalue": "name 'rtsh' is not defined",
     "output_type": "error",
     "traceback": [
      "\u001b[0;31m---------------------------------------------------------------------------\u001b[0m",
      "\u001b[0;31mNameError\u001b[0m                                 Traceback (most recent call last)",
      "Cell \u001b[0;32mIn[2], line 1\u001b[0m\n\u001b[0;32m----> 1\u001b[0m \u001b[43mrtsh\u001b[49m\n",
      "\u001b[0;31mNameError\u001b[0m: name 'rtsh' is not defined"
     ]
    }
   ],
   "source": [
    "rtsh"
   ]
  },
  {
   "cell_type": "code",
   "execution_count": null,
   "id": "a1b933c3-fda1-4141-a454-a2e5100c2cb2",
   "metadata": {},
   "outputs": [],
   "source": [
    "import astropy\n",
    "import numpy as np\n",
    "from astropy.table import QTable\n",
    "from id_Dodd23.coordinates import add_units"
   ]
  },
  {
   "cell_type": "code",
   "execution_count": null,
   "id": "1c67adcb-5195-48ec-bc4c-007cf394dd74",
   "metadata": {},
   "outputs": [],
   "source": [
    "from id_Dodd23.load_data import test_data_file"
   ]
  },
  {
   "cell_type": "code",
   "execution_count": null,
   "id": "1369476f-c2f2-4c32-a3ba-59d4f3d45d7a",
   "metadata": {},
   "outputs": [],
   "source": [
    "astro_tab = QTable.read(test_data_file)\n",
    "astro_tab = add_units(astro_tab)"
   ]
  },
  {
   "cell_type": "code",
   "execution_count": null,
   "id": "fa1ca9ef-37a8-4e69-ba87-08815b0e20cc",
   "metadata": {},
   "outputs": [],
   "source": [
    "astro_tab"
   ]
  },
  {
   "cell_type": "markdown",
   "id": "b082fc66-4ec2-49a0-9c4f-b238ad9f9c37",
   "metadata": {},
   "source": [
    "## Coordinate Transform\n",
    "Observables to Galacto_PosVel"
   ]
  },
  {
   "cell_type": "code",
   "execution_count": null,
   "id": "f13d3f9f-e4f1-4838-b093-57473ddbcbe8",
   "metadata": {},
   "outputs": [],
   "source": [
    "from id_Dodd23.coordinates import coord_transform_icrs_Galacto"
   ]
  },
  {
   "cell_type": "code",
   "execution_count": null,
   "id": "1acb873b-1a13-4bd5-b027-97e75a6f8ce7",
   "metadata": {},
   "outputs": [],
   "source": [
    "observables = [\"ra\",\"dec\",\"distance\",\"pmra\",\"pmdec\",\"radial_velocity\"]\n",
    "obs_data = {key:astro_tab[key]for key in observables}"
   ]
  },
  {
   "cell_type": "code",
   "execution_count": null,
   "id": "ec4e4ecf-142d-4ac9-8986-0ed4fc8907d4",
   "metadata": {},
   "outputs": [],
   "source": [
    "xyz = coord_transform_icrs_Galacto(obs_data)"
   ]
  },
  {
   "cell_type": "markdown",
   "id": "1ebcfe3c-4448-4428-8be8-fca0f61e3728",
   "metadata": {},
   "source": [
    "## Calculate Dynamics\n",
    "From galacto PosVel to \\[En,Lz,Lperp\\]"
   ]
  },
  {
   "cell_type": "code",
   "execution_count": null,
   "id": "d8b5ab25-02b2-4f8d-bd5e-33c4db182440",
   "metadata": {},
   "outputs": [],
   "source": [
    "from id_Dodd23.dynamics import dynamics_calc_H99"
   ]
  },
  {
   "cell_type": "code",
   "execution_count": null,
   "id": "ce2dc321-c2f3-4438-bceb-3f1bc13b15c2",
   "metadata": {},
   "outputs": [],
   "source": [
    "vec_ELzLp  = dynamics_calc_H99(xyz)"
   ]
  },
  {
   "cell_type": "code",
   "execution_count": null,
   "id": "65cfe5db-5094-4018-a094-f1809d4276b0",
   "metadata": {},
   "outputs": [],
   "source": [
    "print(vec_ELzLp[:5,:])"
   ]
  },
  {
   "cell_type": "code",
   "execution_count": null,
   "id": "5a85b95a-a442-4b45-8f33-64d9e7a20119",
   "metadata": {},
   "outputs": [],
   "source": [
    "print(astro_tab[:5][[\"E\",\"Lz\",\"Lp\"]])"
   ]
  },
  {
   "cell_type": "markdown",
   "id": "4fb72fc1-8107-4be1-86aa-ac68475b55ec",
   "metadata": {},
   "source": [
    "## Identify Groups\n",
    "Using the position in IoM space, identify stars that are close to known groups"
   ]
  },
  {
   "cell_type": "code",
   "execution_count": null,
   "id": "bca26ae2-0e7c-49f6-878f-756fa2da7531",
   "metadata": {},
   "outputs": [],
   "source": [
    "from id_Dodd23.id_stars import  add_maha_members_to_groups"
   ]
  },
  {
   "cell_type": "code",
   "execution_count": null,
   "id": "dcbca9cd-3149-4525-9487-73fabf0f3442",
   "metadata": {},
   "outputs": [],
   "source": [
    "from id_Dodd23.load_data import named_Groups, group_covar,group_mean "
   ]
  },
  {
   "cell_type": "code",
   "execution_count": null,
   "id": "454322c2-182f-4349-adae-8d852fdd0e2b",
   "metadata": {},
   "outputs": [],
   "source": [
    "labels = add_maha_members_to_groups(vec_ELzLp,group_mean,group_covar)"
   ]
  },
  {
   "cell_type": "code",
   "execution_count": null,
   "id": "dc5d5024-fd00-49ea-b97f-2ebd1f775bc9",
   "metadata": {},
   "outputs": [],
   "source": [
    "original_labels = np.asarray(astro_tab[\"derived_labels_group\"]).astype(int)"
   ]
  },
  {
   "cell_type": "code",
   "execution_count": null,
   "id": "e12d1e44-488b-4d0b-b281-e70edaf6846e",
   "metadata": {},
   "outputs": [],
   "source": [
    "(original_labels==labels).all()"
   ]
  },
  {
   "cell_type": "code",
   "execution_count": null,
   "id": "7a0532af-c310-4ec4-a658-086959ffab0c",
   "metadata": {},
   "outputs": [],
   "source": [
    "groups = named_Groups[labels]\n",
    "groups[labels==-1] = \"Other\""
   ]
  },
  {
   "cell_type": "code",
   "execution_count": null,
   "id": "a1514e09-1202-4c19-8a81-c7acb3840400",
   "metadata": {},
   "outputs": [],
   "source": [
    "for g in named_Groups:\n",
    "    print(g, (groups==g).sum())"
   ]
  }
 ],
 "metadata": {
  "kernelspec": {
   "display_name": "py10",
   "language": "python",
   "name": "py10"
  },
  "language_info": {
   "codemirror_mode": {
    "name": "ipython",
    "version": 3
   },
   "file_extension": ".py",
   "mimetype": "text/x-python",
   "name": "python",
   "nbconvert_exporter": "python",
   "pygments_lexer": "ipython3",
   "version": "3.10.14"
  }
 },
 "nbformat": 4,
 "nbformat_minor": 5
}
